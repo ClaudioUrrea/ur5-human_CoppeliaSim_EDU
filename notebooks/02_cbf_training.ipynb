{
 "cells": [
  {
   "cell_type": "markdown",
   "metadata": {},
   "source": [
    "# CBF Training Analysis\n",
    "\n",
    "Analyze training curves and model performance."
   ]
  },
  {
   "cell_type": "code",
   "execution_count": null,
   "metadata": {},
   "outputs": [],
   "source": [
    "import numpy as np\n",
    "import matplotlib.pyplot as plt\n",
    "import torch\n",
    "import sys\n",
    "sys.path.append('..')\n",
    "\n",
    "from src.cbf.lipschitz_network import LipschitzCBFNetwork"
   ]
  },
  {
   "cell_type": "markdown",
   "metadata": {},
   "source": [
    "## Load Training History"
   ]
  },
  {
   "cell_type": "code",
   "execution_count": null,
   "metadata": {},
   "outputs": [],
   "source": [
    "history = np.load('../models/checkpoints/training_history.npz')\n",
    "\n",
    "train_loss = history['train_loss']\n",
    "val_loss = history['val_loss']\n",
    "val_accuracy = history['val_accuracy']\n",
    "\n",
    "epochs = np.arange(1, len(train_loss) + 1)\n",
    "\n",
    "print(f\"Training epochs: {len(epochs)}\")\n",
    "print(f\"Final validation accuracy: {val_accuracy[-1]:.4f}\")\n",
    "print(f\"Best validation accuracy: {np.max(val_accuracy):.4f} at epoch {np.argmax(val_accuracy)+1}\")"
   ]
  },
  {
   "cell_type": "markdown",
   "metadata": {},
   "source": [
    "## Training Curves"
   ]
  },
  {
   "cell_type": "code",
   "execution_count": null,
   "metadata": {},
   "outputs": [],
   "source": [
    "fig, axes = plt.subplots(1, 2, figsize=(14, 5))\n",
    "\n",
    "# Loss curves\n",
    "axes[0].plot(epochs, train_loss, label='Train Loss', linewidth=2)\n",
    "axes[0].plot(epochs, val_loss, label='Val Loss', linewidth=2)\n",
    "axes[0].set_xlabel('Epoch')\n",
    "axes[0].set_ylabel('Loss')\n",
    "axes[0].set_title('Training and Validation Loss')\n",
    "axes[0].legend()\n",
    "axes[0].grid(True, alpha=0.3)\n",
    "\n",
    "# Accuracy curve\n",
    "axes[1].plot(epochs, val_accuracy, label='Val Accuracy', linewidth=2, color='green')\n",
    "axes[1].axhline(y=0.95, color='r', linestyle='--', label='95% threshold')\n",
    "axes[1].set_xlabel('Epoch')\n",
    "axes[1].set_ylabel('Accuracy')\n",
    "axes[1].set_title('Validation Accuracy')\n",
    "axes[1].legend()\n",
    "axes[1].grid(True, alpha=0.3)\n",
    "\n",
    "plt.tight_layout()\n",
    "plt.savefig('../results/figures/training_curves.png', dpi=300, bbox_inches='tight')\n",
    "plt.show()"
   ]
  },
  {
   "cell_type": "markdown",
   "metadata": {},
   "source": [
    "## Load Trained Model"
   ]
  },
  {
   "cell_type": "code",
   "execution_count": null,
   "metadata": {},
   "outputs": [],
   "source": [
    "model = LipschitzCBFNetwork()\n",
    "checkpoint = torch.load('../models/checkpoints/cbf_lipschitz_epoch500.pth', map_location='cpu')\n",
    "model.load_state_dict(checkpoint['model_state_dict'])\n",
    "model.eval()\n",
    "\n",
    "print(f\"Loaded model from epoch {checkpoint['epoch']}\")\n",
    "print(f\"Lipschitz constant: {model.lipschitz_constant():.4f}\")\n",
    "print(f\"Validation metrics: {checkpoint['metrics']}\")"
   ]
  },
  {
   "cell_type": "markdown",
   "metadata": {},
   "source": [
    "## Barrier Function Visualization"
   ]
  },
  {
   "cell_type": "code",
   "execution_count": null,
   "metadata": {},
   "outputs": [],
   "source": [
    "# Create 2D slice through state space\n",
    "n_points = 100\n",
    "x_range = np.linspace(-1.5, 1.5, n_points)\n",
    "y_range = np.linspace(-1.5, 1.5, n_points)\n",
    "X, Y = np.meshgrid(x_range, y_range)\n",
    "\n",
    "# Evaluate barrier function\n",
    "H = np.zeros_like(X)\n",
    "\n",
    "for i in range(n_points):\n",
    "    for j in range(n_points):\n",
    "        # Create state with varying human x,y positions\n",
    "        state = np.zeros(38)\n",
    "        state[12] = X[i, j]  # Human x position\n",
    "        state[13] = Y[i, j]  # Human y position\n",
    "        \n",
    "        with torch.no_grad():\n",
    "            h_val = model(torch.FloatTensor(state).unsqueeze(0)).item()\n",
    "        \n",
    "        H[i, j] = h_val\n",
    "\n",
    "# Plot\n",
    "plt.figure(figsize=(10, 8))\n",
    "contour = plt.contourf(X, Y, H, levels=20, cmap='RdYlGn')\n",
    "plt.contour(X, Y, H, levels=[0], colors='black', linewidths=3, label='Safety boundary')\n",
    "plt.colorbar(contour, label='h(x)')\n",
    "plt.xlabel('Human X Position (m)')\n",
    "plt.ylabel('Human Y Position (m)')\n",
    "plt.title('Learned Barrier Function Landscape')\n",
    "plt.grid(True, alpha=0.3)\n",
    "plt.savefig('../results/figures/barrier_function_landscape.png', dpi=300, bbox_inches='tight')\n",
    "plt.show()"
   ]
  }
 ],
 "metadata": {
  "kernelspec": {
   "display_name": "Python 3",
   "language": "python",
   "name": "python3"
  }
 },
 "nbformat": 4,
 "nbformat_minor": 4
}