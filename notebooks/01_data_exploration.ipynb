{
 "cells": [
  {
   "cell_type": "markdown",
   "metadata": {},
   "source": [
    "# Data Exploration - CBF Training Dataset\n",
    "\n",
    "This notebook explores the training dataset for the Control Barrier Function neural network."
   ]
  },
  {
   "cell_type": "code",
   "execution_count": null,
   "metadata": {},
   "outputs": [],
   "source": [
    "import numpy as np\n",
    "import matplotlib.pyplot as plt\n",
    "import seaborn as sns\n",
    "from pathlib import Path\n",
    "\n",
    "sns.set_style('whitegrid')\n",
    "plt.rcParams['figure.figsize'] = (12, 6)"
   ]
  },
  {
   "cell_type": "markdown",
   "metadata": {},
   "source": [
    "## Load Data"
   ]
  },
  {
   "cell_type": "code",
   "execution_count": null,
   "metadata": {},
   "outputs": [],
   "source": [
    "data = np.load('../data/raw/training_dataset_50k.npz')\n",
    "\n",
    "states = data['states']\n",
    "labels = data['labels']\n",
    "safe_mask = data['safe_mask']\n",
    "boundary_mask = data['boundary_mask']\n",
    "\n",
    "print(f\"Dataset shape: {states.shape}\")\n",
    "print(f\"Total samples: {len(states)}\")\n",
    "print(f\"Safe samples: {np.sum(safe_mask)} ({100*np.mean(safe_mask):.1f}%)\")\n",
    "print(f\"Unsafe samples: {np.sum(~safe_mask & ~boundary_mask)} ({100*np.mean(~safe_mask & ~boundary_mask):.1f}%)\")\n",
    "print(f\"Boundary samples: {np.sum(boundary_mask)} ({100*np.mean(boundary_mask):.1f}%)\")"
   ]
  },
  {
   "cell_type": "markdown",
   "metadata": {},
   "source": [
    "## State Distribution Analysis"
   ]
  },
  {
   "cell_type": "code",
   "execution_count": null,
   "metadata": {},
   "outputs": [],
   "source": [
    "# Robot joint angles distribution\n",
    "fig, axes = plt.subplots(2, 3, figsize=(15, 8))\n",
    "axes = axes.ravel()\n",
    "\n",
    "for i in range(6):\n",
    "    axes[i].hist(states[:, i], bins=50, alpha=0.7, edgecolor='black')\n",
    "    axes[i].set_title(f'Joint {i+1} Angle')\n",
    "    axes[i].set_xlabel('Angle (rad)')\n",
    "    axes[i].set_ylabel('Frequency')\n",
    "\n",
    "plt.tight_layout()\n",
    "plt.savefig('../results/figures/joint_angles_distribution.png', dpi=300, bbox_inches='tight')\n",
    "plt.show()"
   ]
  },
  {
   "cell_type": "markdown",
   "metadata": {},
   "source": [
    "## Safe vs Unsafe State Comparison"
   ]
  },
  {
   "cell_type": "code",
   "execution_count": null,
   "metadata": {},
   "outputs": [],
   "source": [
    "# Compare human positions for safe vs unsafe\n",
    "fig, axes = plt.subplots(1, 2, figsize=(14, 5))\n",
    "\n",
    "# Human X positions\n",
    "safe_px = states[safe_mask, 12::3]  # Every 3rd element starting from 12\n",
    "unsafe_px = states[~safe_mask & ~boundary_mask, 12::3]\n",
    "\n",
    "axes[0].hist(safe_px.ravel(), bins=50, alpha=0.6, label='Safe', color='green')\n",
    "axes[0].hist(unsafe_px.ravel(), bins=50, alpha=0.6, label='Unsafe', color='red')\n",
    "axes[0].set_xlabel('Human X Position (m)')\n",
    "axes[0].set_ylabel('Frequency')\n",
    "axes[0].set_title('Human Position Distribution')\n",
    "axes[0].legend()\n",
    "\n",
    "# Label distribution\n",
    "axes[1].bar(['Safe', 'Unsafe'], [np.sum(safe_mask), np.sum(~safe_mask)], \n",
    "           color=['green', 'red'], alpha=0.7)\n",
    "axes[1].set_ylabel('Count')\n",
    "axes[1].set_title('Class Balance')\n",
    "\n",
    "plt.tight_layout()\n",
    "plt.savefig('../results/figures/safe_unsafe_comparison.png', dpi=300, bbox_inches='tight')\n",
    "plt.show()"
   ]
  },
  {
   "cell_type": "markdown",
   "metadata": {},
   "source": [
    "## Feature Correlation Analysis"
   ]
  },
  {
   "cell_type": "code",
   "execution_count": null,
   "metadata": {},
   "outputs": [],
   "source": [
    "# Compute correlation matrix for subset of features\n",
    "feature_subset = states[:1000, :18]  # Robot states only\n",
    "corr_matrix = np.corrcoef(feature_subset.T)\n",
    "\n",
    "plt.figure(figsize=(10, 8))\n",
    "sns.heatmap(corr_matrix, cmap='coolwarm', center=0, \n",
    "           xticklabels=[f'q{i}' for i in range(6)] + [f'qd{i}' for i in range(6)],\n",
    "           yticklabels=[f'q{i}' for i in range(6)] + [f'qd{i}' for i in range(6)])\n",
    "plt.title('Robot State Correlation Matrix')\n",
    "plt.tight_layout()\n",
    "plt.savefig('../results/figures/correlation_matrix.png', dpi=300, bbox_inches='tight')\n",
    "plt.show()"
   ]
  },
  {
   "cell_type": "markdown",
   "metadata": {},
   "source": [
    "## Summary Statistics"
   ]
  },
  {
   "cell_type": "code",
   "execution_count": null,
   "metadata": {},
   "outputs": [],
   "source": [
    "import pandas as pd\n",
    "\n",
    "# State names\n",
    "state_names = (\n",
    "    [f'q_r_{i}' for i in range(6)] +\n",
    "    [f'qd_r_{i}' for i in range(6)] +\n",
    "    [f'p_h_{i}' for i in range(18)] +\n",
    "    [f'v_h_{i}' for i in range(18)] +\n",
    "    [f's_obj_{i}' for i in range(12)] +\n",
    "    ['s_conv'] +\n",
    "    [f's_task_{i}' for i in range(5)]\n",
    ")\n",
    "\n",
    "# Create dataframe\n",
    "df = pd.DataFrame(states, columns=state_names)\n",
    "df['label'] = labels\n",
    "\n",
    "# Summary statistics\n",
    "print(\"\\nSummary Statistics (first 12 features):\")\n",
    "print(df.iloc[:, :12].describe())"
   ]
  }
 ],
 "metadata": {
  "kernelspec": {
   "display_name": "Python 3",
   "language": "python",
   "name": "python3"
  },
  "language_info": {
   "codemirror_mode": {
    "name": "ipython",
    "version": 3
   },
   "file_extension": ".py",
   "mimetype": "text/x-python",
   "name": "python",
   "nbconvert_exporter": "python",
   "pygments_lexer": "ipython3",
   "version": "3.8.0"
  }
 },
 "nbformat": 4,
 "nbformat_minor": 4
}