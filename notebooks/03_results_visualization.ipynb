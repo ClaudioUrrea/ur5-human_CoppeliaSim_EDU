{
 "cells": [
  {
   "cell_type": "markdown",
   "metadata": {},
   "source": ["# Results Visualization\n", "Analysis of LBCF-MPC experimental results"]
  },
  {
   "cell_type": "code",
   "execution_count": null,
   "metadata": {},
   "outputs": [],
   "source": [
    "import numpy as np\n",
    "import matplotlib.pyplot as plt\n",
    "import pandas as pd\n",
    "import pickle\n",
    "from pathlib import Path\n",
    "\n",
    "# Load results\n",
    "with open('../data/experimental_results_120runs.pkl', 'rb') as f:\n",
    "    results = pickle.load(f)\n",
    "\n",
    "print('Results loaded successfully')"
   ]
  },
  {
   "cell_type": "code",
   "execution_count": null,
   "metadata": {},
   "outputs": [],
   "source": ["# Plot safety trajectories\n", "# Add your visualization code"]
  }
 ],
 "metadata": {
  "kernelspec": {"display_name": "Python 3", "language": "python", "name": "python3"}
 },
 "nbformat": 4,
 "nbformat_minor": 4
}